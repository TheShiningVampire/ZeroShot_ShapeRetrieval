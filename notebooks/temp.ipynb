{
 "cells": [
  {
   "cell_type": "code",
   "execution_count": 1,
   "metadata": {},
   "outputs": [],
   "source": [
    "import os"
   ]
  },
  {
   "cell_type": "code",
   "execution_count": 2,
   "metadata": {},
   "outputs": [
    {
     "data": {
      "text/plain": [
       "['airplane',\n",
       " 'ant',\n",
       " 'axe',\n",
       " 'barn',\n",
       " 'bed',\n",
       " 'bee',\n",
       " 'beer-mug',\n",
       " 'bench',\n",
       " 'bicycle',\n",
       " 'binoculars',\n",
       " 'book',\n",
       " 'brain',\n",
       " 'bridge',\n",
       " 'bush',\n",
       " 'butterfly',\n",
       " 'cabinet',\n",
       " 'car_sedan',\n",
       " 'chair',\n",
       " 'church',\n",
       " 'computer_monitor',\n",
       " 'dolphin',\n",
       " 'door',\n",
       " 'dragon',\n",
       " 'duck',\n",
       " 'face',\n",
       " 'fish',\n",
       " 'floor_lamp',\n",
       " 'flower_with_stem',\n",
       " 'guitar',\n",
       " 'hammer',\n",
       " 'hand',\n",
       " 'hat',\n",
       " 'head',\n",
       " 'helicopter',\n",
       " 'horse',\n",
       " 'hourglass',\n",
       " 'house',\n",
       " 'human-skeleton',\n",
       " 'ice-cream-cone',\n",
       " 'knife',\n",
       " 'ladder',\n",
       " 'mailbox',\n",
       " 'microscope',\n",
       " 'piano',\n",
       " 'pickup_truck',\n",
       " 'pig',\n",
       " 'potted_plant',\n",
       " 'rabbit',\n",
       " 'race_car',\n",
       " 'satellite',\n",
       " 'satellite_dish',\n",
       " 'screwdriver',\n",
       " 'sea_turtle',\n",
       " 'shark',\n",
       " 'ship',\n",
       " 'shoe',\n",
       " 'shovel',\n",
       " 'skateboard',\n",
       " 'skull',\n",
       " 'skyscraper',\n",
       " 'snake',\n",
       " 'snowman',\n",
       " 'space_shuttle',\n",
       " 'spider',\n",
       " 'standing_bird',\n",
       " 'submarine',\n",
       " 'sword',\n",
       " 'table',\n",
       " 'tablelamp',\n",
       " 'tent',\n",
       " 'tire',\n",
       " 'train',\n",
       " 'tree',\n",
       " 'truck',\n",
       " 'umbrella',\n",
       " 'wheel',\n",
       " 'wine-bottle',\n",
       " 'wineglass',\n",
       " 'wrist-watch']"
      ]
     },
     "execution_count": 2,
     "metadata": {},
     "output_type": "execute_result"
    }
   ],
   "source": [
    "path = \"../Data/ZERO_SHOT_DATASET_SHREC13_NEW/test/model\"\n",
    "\n",
    "list = os.listdir(path) # dir is your directory path\n",
    "\n",
    "list.sort()\n",
    "\n",
    "list\n"
   ]
  },
  {
   "cell_type": "code",
   "execution_count": 3,
   "metadata": {},
   "outputs": [
    {
     "data": {
      "text/plain": [
       "['castle',\n",
       " 'couch',\n",
       " 'dog',\n",
       " 'hot_air_balloon',\n",
       " 'laptop',\n",
       " 'motorbike',\n",
       " 'palm_tree',\n",
       " 'sailboat',\n",
       " 'suv',\n",
       " 'tv',\n",
       " 'vase']"
      ]
     },
     "execution_count": 3,
     "metadata": {},
     "output_type": "execute_result"
    }
   ],
   "source": [
    "path = \"../Data/ZERO_SHOT_DATASET_SHREC13_NEW/test_usual/model\"\n",
    "list = os.listdir(path) # dir is your directory path\n",
    "list.sort()\n",
    "\n",
    "list"
   ]
  },
  {
   "cell_type": "code",
   "execution_count": null,
   "metadata": {},
   "outputs": [],
   "source": []
  }
 ],
 "metadata": {
  "kernelspec": {
   "display_name": "Python 3",
   "language": "python",
   "name": "python3"
  },
  "language_info": {
   "codemirror_mode": {
    "name": "ipython",
    "version": 3
   },
   "file_extension": ".py",
   "mimetype": "text/x-python",
   "name": "python",
   "nbconvert_exporter": "python",
   "pygments_lexer": "ipython3",
   "version": "3.8.16"
  },
  "orig_nbformat": 4
 },
 "nbformat": 4,
 "nbformat_minor": 2
}
