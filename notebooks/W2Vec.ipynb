{
 "cells": [
  {
   "cell_type": "code",
   "execution_count": 1,
   "metadata": {},
   "outputs": [],
   "source": [
    "import numpy as np\n",
    "import pandas as pd"
   ]
  },
  {
   "cell_type": "code",
   "execution_count": 2,
   "metadata": {},
   "outputs": [],
   "source": [
    "path = \"/mnt/elk/data/valaybun/other_users/vinit/ZeroShot_ShapeRetrieval/word2vec/w2v.npz\""
   ]
  },
  {
   "cell_type": "code",
   "execution_count": 3,
   "metadata": {},
   "outputs": [],
   "source": [
    "# Load the data\n",
    "data = np.load(path)"
   ]
  },
  {
   "cell_type": "code",
   "execution_count": 4,
   "metadata": {},
   "outputs": [
    {
     "data": {
      "text/plain": [
       "<numpy.lib.npyio.NpzFile at 0x7fa1f01a3b20>"
      ]
     },
     "execution_count": 4,
     "metadata": {},
     "output_type": "execute_result"
    }
   ],
   "source": [
    "data"
   ]
  },
  {
   "cell_type": "code",
   "execution_count": 6,
   "metadata": {},
   "outputs": [],
   "source": [
    "d = np.load(path, allow_pickle=True)['wv'].item()"
   ]
  },
  {
   "cell_type": "code",
   "execution_count": 8,
   "metadata": {},
   "outputs": [
    {
     "data": {
      "text/plain": [
       "dict_keys(['airplane', 'ant', 'axe', 'barn', 'bed', 'bee', 'beer-mug', 'bench', 'bicycle', 'binoculars', 'book', 'brain', 'bridge', 'bush', 'butterfly', 'cabinet', 'car_sedan', 'castle', 'chair', 'church', 'computer_monitor', 'couch', 'dog', 'dolphin', 'door', 'dragon', 'duck', 'face', 'fish', 'floor_lamp', 'flower_with_stem', 'guitar', 'hammer', 'hand', 'hat', 'head', 'helicopter', 'horse', 'hot_air_balloon', 'hourglass', 'house', 'human-skeleton', 'ice-cream-cone', 'knife', 'ladder', 'laptop', 'mailbox', 'microscope', 'motorbike', 'palm_tree', 'piano', 'pickup_truck', 'pig', 'potted_plant', 'rabbit', 'race_car', 'sailboat', 'satellite', 'satellite_dish', 'screwdriver', 'sea_turtle', 'shark', 'ship', 'shoe', 'shovel', 'skateboard', 'skull', 'skyscraper', 'snake', 'snowman', 'space_shuttle', 'spider', 'standing_bird', 'submarine', 'suv', 'sword', 'table', 'tablelamp', 'tent', 'tire', 'train', 'tree', 'truck', 'tv', 'umbrella', 'vase', 'wheel', 'wine-bottle', 'wineglass', 'wrist-watch'])"
      ]
     },
     "execution_count": 8,
     "metadata": {},
     "output_type": "execute_result"
    }
   ],
   "source": [
    "d.keys()"
   ]
  },
  {
   "cell_type": "code",
   "execution_count": 10,
   "metadata": {},
   "outputs": [],
   "source": [
    "from gensim.models import Word2Vec"
   ]
  },
  {
   "cell_type": "code",
   "execution_count": 12,
   "metadata": {},
   "outputs": [],
   "source": [
    "import os"
   ]
  },
  {
   "cell_type": "code",
   "execution_count": 13,
   "metadata": {},
   "outputs": [],
   "source": [
    "path = \"../Data/ZERO_SHOT_DATASET_SHREC14/train/img/\"\n",
    "\n",
    "classes = os.listdir(path)"
   ]
  },
  {
   "cell_type": "code",
   "execution_count": 14,
   "metadata": {},
   "outputs": [
    {
     "data": {
      "text/plain": [
       "['bridge',\n",
       " 'eyeglasses',\n",
       " 'traffic_light',\n",
       " 'book',\n",
       " 'bread',\n",
       " 'seagull',\n",
       " 'camera',\n",
       " 'hammer',\n",
       " 'hourglass',\n",
       " 'fan',\n",
       " 'bus',\n",
       " 'octopus',\n",
       " 'house',\n",
       " 'diamond',\n",
       " 'blimp',\n",
       " 'flower_with_stem',\n",
       " 'door',\n",
       " 'tent',\n",
       " 'chair',\n",
       " 'bench',\n",
       " 'cake',\n",
       " 'windmill',\n",
       " 'cell_phone',\n",
       " 'elephant',\n",
       " 'pear',\n",
       " 'tree',\n",
       " 'hat',\n",
       " 'pen',\n",
       " 'piano',\n",
       " 'owl',\n",
       " 'skateboard',\n",
       " 'axe',\n",
       " 'pig',\n",
       " 'shark',\n",
       " 'kangaroo',\n",
       " 'ear',\n",
       " 'bee',\n",
       " 'banana',\n",
       " 'door_handle',\n",
       " 'teddy_bear',\n",
       " 'lighter',\n",
       " 'guitar',\n",
       " 'baseball_bat',\n",
       " 'snowman',\n",
       " 'bathtub',\n",
       " 'cup',\n",
       " 'dragon',\n",
       " 'crocodile',\n",
       " 'satellite',\n",
       " 'lion',\n",
       " 'wine_bottle',\n",
       " 'van',\n",
       " 'tooth',\n",
       " 'fish',\n",
       " 'cigarette',\n",
       " 'sea_turtle',\n",
       " 'computer_monitor',\n",
       " 'bowl',\n",
       " 'fork',\n",
       " 'floor_lamp',\n",
       " 'knife',\n",
       " 'armchair',\n",
       " 'race_car',\n",
       " 'tire',\n",
       " 'church',\n",
       " 'ashtray',\n",
       " 'snake',\n",
       " 'alarm_clock',\n",
       " 'cabinet',\n",
       " 'parking_meter',\n",
       " 'telephone',\n",
       " 'toilet',\n",
       " 'spoon',\n",
       " 'cow',\n",
       " 'stapler',\n",
       " 'horse',\n",
       " 'shoe',\n",
       " 'flying_saucer',\n",
       " 'beer_mug',\n",
       " 'submarine',\n",
       " 'sword',\n",
       " 'mug',\n",
       " 'violin',\n",
       " 'skull',\n",
       " 'pipe_for_smoking',\n",
       " 'lightbulb',\n",
       " 'spider',\n",
       " 'rifle',\n",
       " 'cannon',\n",
       " 'hand',\n",
       " 'truck',\n",
       " 'scissors',\n",
       " 'microscope',\n",
       " 'satellite_dish',\n",
       " 'car_sedan',\n",
       " 'brain',\n",
       " 'flying_bird',\n",
       " 'bed',\n",
       " 'pickup_truck',\n",
       " 'barn',\n",
       " 'suitcase',\n",
       " 'ant',\n",
       " 'helicopter',\n",
       " 'chandelier',\n",
       " 'mushroom',\n",
       " 'basket',\n",
       " 'bookshelf',\n",
       " 'ice_cream_cone',\n",
       " 'rabbit',\n",
       " 'dolphin',\n",
       " 'monkey',\n",
       " 'tablelamp',\n",
       " 'standing_bird',\n",
       " 'camel',\n",
       " 'fire_hydrant',\n",
       " 'ship',\n",
       " 'teapot',\n",
       " 'space_shuttle',\n",
       " 'face',\n",
       " 'candle',\n",
       " 'apple',\n",
       " 'sheep',\n",
       " 'keyboard',\n",
       " 'train',\n",
       " 'giraffe',\n",
       " 'helmet',\n",
       " 'microphone',\n",
       " 'table',\n",
       " 'skyscraper',\n",
       " 'bear_animal',\n",
       " 'potted_plant',\n",
       " 'key',\n",
       " 'tennis_racket',\n",
       " 'syringe',\n",
       " 'airplane',\n",
       " 'screwdriver',\n",
       " 'grapes',\n",
       " 'crab',\n",
       " 'parrot',\n",
       " 'frog',\n",
       " 'scorpion',\n",
       " 'human_skeleton',\n",
       " 'person_walking',\n",
       " 'bicycle',\n",
       " 'duck',\n",
       " 'pumpkin',\n",
       " 'head',\n",
       " 'wheel',\n",
       " 'person_sitting',\n",
       " 'penguin',\n",
       " 'wrist_watch']"
      ]
     },
     "execution_count": 14,
     "metadata": {},
     "output_type": "execute_result"
    }
   ],
   "source": [
    "classes"
   ]
  },
  {
   "cell_type": "code",
   "execution_count": 15,
   "metadata": {},
   "outputs": [
    {
     "data": {
      "text/plain": [
       "151"
      ]
     },
     "execution_count": 15,
     "metadata": {},
     "output_type": "execute_result"
    }
   ],
   "source": [
    "len(classes)"
   ]
  },
  {
   "cell_type": "code",
   "execution_count": 17,
   "metadata": {},
   "outputs": [],
   "source": [
    "from gensim.models import KeyedVectors"
   ]
  },
  {
   "cell_type": "code",
   "execution_count": 19,
   "metadata": {},
   "outputs": [],
   "source": [
    "model = KeyedVectors.load_word2vec_format('word2vec/GoogleNews-vectors-negative300.bin', binary=True)"
   ]
  },
  {
   "cell_type": "code",
   "execution_count": 20,
   "metadata": {},
   "outputs": [
    {
     "data": {
      "text/plain": [
       "['bridge',\n",
       " 'eyeglasses',\n",
       " 'traffic_light',\n",
       " 'book',\n",
       " 'bread',\n",
       " 'seagull',\n",
       " 'camera',\n",
       " 'hammer',\n",
       " 'hourglass',\n",
       " 'fan',\n",
       " 'bus',\n",
       " 'octopus',\n",
       " 'house',\n",
       " 'diamond',\n",
       " 'blimp',\n",
       " 'flower_with_stem',\n",
       " 'door',\n",
       " 'tent',\n",
       " 'chair',\n",
       " 'bench',\n",
       " 'cake',\n",
       " 'windmill',\n",
       " 'cell_phone',\n",
       " 'elephant',\n",
       " 'pear',\n",
       " 'tree',\n",
       " 'hat',\n",
       " 'pen',\n",
       " 'piano',\n",
       " 'owl',\n",
       " 'skateboard',\n",
       " 'axe',\n",
       " 'pig',\n",
       " 'shark',\n",
       " 'kangaroo',\n",
       " 'ear',\n",
       " 'bee',\n",
       " 'banana',\n",
       " 'door_handle',\n",
       " 'teddy_bear',\n",
       " 'lighter',\n",
       " 'guitar',\n",
       " 'baseball_bat',\n",
       " 'snowman',\n",
       " 'bathtub',\n",
       " 'cup',\n",
       " 'dragon',\n",
       " 'crocodile',\n",
       " 'satellite',\n",
       " 'lion',\n",
       " 'wine_bottle',\n",
       " 'van',\n",
       " 'tooth',\n",
       " 'fish',\n",
       " 'cigarette',\n",
       " 'sea_turtle',\n",
       " 'computer_monitor',\n",
       " 'bowl',\n",
       " 'fork',\n",
       " 'floor_lamp',\n",
       " 'knife',\n",
       " 'armchair',\n",
       " 'race_car',\n",
       " 'tire',\n",
       " 'church',\n",
       " 'ashtray',\n",
       " 'snake',\n",
       " 'alarm_clock',\n",
       " 'cabinet',\n",
       " 'parking_meter',\n",
       " 'telephone',\n",
       " 'toilet',\n",
       " 'spoon',\n",
       " 'cow',\n",
       " 'stapler',\n",
       " 'horse',\n",
       " 'shoe',\n",
       " 'flying_saucer',\n",
       " 'beer_mug',\n",
       " 'submarine',\n",
       " 'sword',\n",
       " 'mug',\n",
       " 'violin',\n",
       " 'skull',\n",
       " 'pipe_for_smoking',\n",
       " 'lightbulb',\n",
       " 'spider',\n",
       " 'rifle',\n",
       " 'cannon',\n",
       " 'hand',\n",
       " 'truck',\n",
       " 'scissors',\n",
       " 'microscope',\n",
       " 'satellite_dish',\n",
       " 'car_sedan',\n",
       " 'brain',\n",
       " 'flying_bird',\n",
       " 'bed',\n",
       " 'pickup_truck',\n",
       " 'barn',\n",
       " 'suitcase',\n",
       " 'ant',\n",
       " 'helicopter',\n",
       " 'chandelier',\n",
       " 'mushroom',\n",
       " 'basket',\n",
       " 'bookshelf',\n",
       " 'ice_cream_cone',\n",
       " 'rabbit',\n",
       " 'dolphin',\n",
       " 'monkey',\n",
       " 'tablelamp',\n",
       " 'standing_bird',\n",
       " 'camel',\n",
       " 'fire_hydrant',\n",
       " 'ship',\n",
       " 'teapot',\n",
       " 'space_shuttle',\n",
       " 'face',\n",
       " 'candle',\n",
       " 'apple',\n",
       " 'sheep',\n",
       " 'keyboard',\n",
       " 'train',\n",
       " 'giraffe',\n",
       " 'helmet',\n",
       " 'microphone',\n",
       " 'table',\n",
       " 'skyscraper',\n",
       " 'bear_animal',\n",
       " 'potted_plant',\n",
       " 'key',\n",
       " 'tennis_racket',\n",
       " 'syringe',\n",
       " 'airplane',\n",
       " 'screwdriver',\n",
       " 'grapes',\n",
       " 'crab',\n",
       " 'parrot',\n",
       " 'frog',\n",
       " 'scorpion',\n",
       " 'human_skeleton',\n",
       " 'person_walking',\n",
       " 'bicycle',\n",
       " 'duck',\n",
       " 'pumpkin',\n",
       " 'head',\n",
       " 'wheel',\n",
       " 'person_sitting',\n",
       " 'penguin',\n",
       " 'wrist_watch']"
      ]
     },
     "execution_count": 20,
     "metadata": {},
     "output_type": "execute_result"
    }
   ],
   "source": [
    "classes"
   ]
  },
  {
   "cell_type": "code",
   "execution_count": 21,
   "metadata": {},
   "outputs": [
    {
     "data": {
      "text/plain": [
       "151"
      ]
     },
     "execution_count": 21,
     "metadata": {},
     "output_type": "execute_result"
    }
   ],
   "source": [
    "len(classes)"
   ]
  },
  {
   "cell_type": "code",
   "execution_count": 29,
   "metadata": {},
   "outputs": [],
   "source": [
    "embeddings = {}\n",
    "\n",
    "for c in classes:\n",
    "    if c in model:\n",
    "        embeddings[c] = model[c]"
   ]
  },
  {
   "cell_type": "code",
   "execution_count": 30,
   "metadata": {},
   "outputs": [
    {
     "data": {
      "text/plain": [
       "130"
      ]
     },
     "execution_count": 30,
     "metadata": {},
     "output_type": "execute_result"
    }
   ],
   "source": [
    "len(embeddings.keys())"
   ]
  },
  {
   "cell_type": "code",
   "execution_count": 31,
   "metadata": {},
   "outputs": [
    {
     "data": {
      "text/plain": [
       "{'axe',\n",
       " 'baseball_bat',\n",
       " 'bear_animal',\n",
       " 'beer_mug',\n",
       " 'car_sedan',\n",
       " 'computer_monitor',\n",
       " 'door_handle',\n",
       " 'floor_lamp',\n",
       " 'flower_with_stem',\n",
       " 'flying_bird',\n",
       " 'human_skeleton',\n",
       " 'parking_meter',\n",
       " 'person_sitting',\n",
       " 'person_walking',\n",
       " 'pipe_for_smoking',\n",
       " 'race_car',\n",
       " 'standing_bird',\n",
       " 'tablelamp',\n",
       " 'traffic_light',\n",
       " 'wine_bottle',\n",
       " 'wrist_watch'}"
      ]
     },
     "execution_count": 31,
     "metadata": {},
     "output_type": "execute_result"
    }
   ],
   "source": [
    "# Words in classes that are not in embeddings.keys()\n",
    "set(classes) - set(embeddings.keys())"
   ]
  },
  {
   "cell_type": "code",
   "execution_count": 32,
   "metadata": {},
   "outputs": [
    {
     "name": "stdout",
     "output_type": "stream",
     "text": [
      "False\n"
     ]
    }
   ],
   "source": [
    "print('axe' in model)"
   ]
  },
  {
   "cell_type": "code",
   "execution_count": 33,
   "metadata": {},
   "outputs": [],
   "source": [
    "not_present = set(classes) - set(embeddings.keys())"
   ]
  },
  {
   "cell_type": "code",
   "execution_count": 34,
   "metadata": {},
   "outputs": [
    {
     "data": {
      "text/plain": [
       "{'baseball_bat',\n",
       " 'bear_animal',\n",
       " 'beer_mug',\n",
       " 'door_handle',\n",
       " 'flying_bird',\n",
       " 'human_skeleton',\n",
       " 'parking_meter',\n",
       " 'person_sitting',\n",
       " 'person_walking',\n",
       " 'pipe_for_smoking',\n",
       " 'traffic_light',\n",
       " 'wine_bottle',\n",
       " 'wrist_watch'}"
      ]
     },
     "execution_count": 34,
     "metadata": {},
     "output_type": "execute_result"
    }
   ],
   "source": [
    "# Remove d.keys() from not_present\n",
    "not_present - set(d.keys())"
   ]
  },
  {
   "cell_type": "code",
   "execution_count": 35,
   "metadata": {},
   "outputs": [],
   "source": [
    "for c in not_present:\n",
    "    if c in d.keys():\n",
    "        embeddings[c] = d[c]"
   ]
  },
  {
   "cell_type": "code",
   "execution_count": 44,
   "metadata": {},
   "outputs": [],
   "source": [
    "not_present = set(classes) - set(embeddings.keys())"
   ]
  },
  {
   "cell_type": "code",
   "execution_count": 36,
   "metadata": {},
   "outputs": [
    {
     "data": {
      "text/plain": [
       "138"
      ]
     },
     "execution_count": 36,
     "metadata": {},
     "output_type": "execute_result"
    }
   ],
   "source": [
    "len(embeddings.keys())"
   ]
  },
  {
   "cell_type": "code",
   "execution_count": 40,
   "metadata": {},
   "outputs": [
    {
     "data": {
      "text/plain": [
       "True"
      ]
     },
     "execution_count": 40,
     "metadata": {},
     "output_type": "execute_result"
    }
   ],
   "source": [
    "# Check if embedding for bridge is same in embeddings and d\n",
    "np.any(embeddings['bridge'] != d['house'])"
   ]
  },
  {
   "cell_type": "code",
   "execution_count": 41,
   "metadata": {},
   "outputs": [
    {
     "name": "stdout",
     "output_type": "stream",
     "text": [
      "True\n"
     ]
    }
   ],
   "source": [
    "print('bear' in model)"
   ]
  },
  {
   "cell_type": "code",
   "execution_count": 42,
   "metadata": {},
   "outputs": [],
   "source": [
    "embeddings['bear_animal'] = model['bear']\n",
    "not_present = not_present - set(['bear_animal'])"
   ]
  },
  {
   "cell_type": "code",
   "execution_count": 45,
   "metadata": {},
   "outputs": [
    {
     "data": {
      "text/plain": [
       "{'baseball_bat',\n",
       " 'beer_mug',\n",
       " 'door_handle',\n",
       " 'flying_bird',\n",
       " 'human_skeleton',\n",
       " 'parking_meter',\n",
       " 'person_sitting',\n",
       " 'person_walking',\n",
       " 'pipe_for_smoking',\n",
       " 'traffic_light',\n",
       " 'wine_bottle',\n",
       " 'wrist_watch'}"
      ]
     },
     "execution_count": 45,
     "metadata": {},
     "output_type": "execute_result"
    }
   ],
   "source": [
    "not_present"
   ]
  },
  {
   "cell_type": "code",
   "execution_count": 46,
   "metadata": {},
   "outputs": [],
   "source": [
    "# For words in not_present, check if they are present in d.keys() with _ replaced by -\n",
    "for c in not_present:\n",
    "    if c.replace('_', '-') in d.keys():\n",
    "        embeddings[c] = d[c.replace('_', '-')]\n",
    "        not_present = not_present - set([c])"
   ]
  },
  {
   "cell_type": "code",
   "execution_count": 47,
   "metadata": {},
   "outputs": [
    {
     "data": {
      "text/plain": [
       "{'baseball_bat',\n",
       " 'door_handle',\n",
       " 'flying_bird',\n",
       " 'parking_meter',\n",
       " 'person_sitting',\n",
       " 'person_walking',\n",
       " 'pipe_for_smoking',\n",
       " 'traffic_light'}"
      ]
     },
     "execution_count": 47,
     "metadata": {},
     "output_type": "execute_result"
    }
   ],
   "source": [
    "not_present"
   ]
  },
  {
   "cell_type": "code",
   "execution_count": 48,
   "metadata": {},
   "outputs": [
    {
     "data": {
      "text/plain": [
       "True"
      ]
     },
     "execution_count": 48,
     "metadata": {},
     "output_type": "execute_result"
    }
   ],
   "source": [
    "'bird' in model"
   ]
  },
  {
   "cell_type": "code",
   "execution_count": 49,
   "metadata": {},
   "outputs": [],
   "source": [
    "# Use bird instead of flying_bird\n",
    "embeddings['flying_bird'] = model['bird']\n",
    "not_present = not_present - set(['flying_bird'])"
   ]
  },
  {
   "cell_type": "code",
   "execution_count": 50,
   "metadata": {},
   "outputs": [
    {
     "data": {
      "text/plain": [
       "{'baseball_bat',\n",
       " 'door_handle',\n",
       " 'parking_meter',\n",
       " 'person_sitting',\n",
       " 'person_walking',\n",
       " 'pipe_for_smoking',\n",
       " 'traffic_light'}"
      ]
     },
     "execution_count": 50,
     "metadata": {},
     "output_type": "execute_result"
    }
   ],
   "source": [
    "not_present"
   ]
  },
  {
   "cell_type": "code",
   "execution_count": 53,
   "metadata": {},
   "outputs": [],
   "source": [
    "for phrase in not_present:\n",
    "    words = phrase.split('_')\n",
    "    word_embeddings = [model[w] for w in words if w in model]\n",
    "    if len(word_embeddings) == 0:\n",
    "        continue\n",
    "    else:\n",
    "        embeddings[phrase] = np.mean(word_embeddings, axis=0)\n",
    "        not_present = not_present - set([phrase])\n",
    "    "
   ]
  },
  {
   "cell_type": "code",
   "execution_count": 54,
   "metadata": {},
   "outputs": [
    {
     "data": {
      "text/plain": [
       "set()"
      ]
     },
     "execution_count": 54,
     "metadata": {},
     "output_type": "execute_result"
    }
   ],
   "source": [
    "not_present"
   ]
  },
  {
   "cell_type": "code",
   "execution_count": 55,
   "metadata": {},
   "outputs": [
    {
     "data": {
      "text/plain": [
       "151"
      ]
     },
     "execution_count": 55,
     "metadata": {},
     "output_type": "execute_result"
    }
   ],
   "source": [
    "len(embeddings)"
   ]
  },
  {
   "cell_type": "code",
   "execution_count": 56,
   "metadata": {},
   "outputs": [],
   "source": [
    "np.savez_compressed('word2vec/w2v_2.npz', wv=embeddings)"
   ]
  },
  {
   "cell_type": "code",
   "execution_count": 57,
   "metadata": {},
   "outputs": [],
   "source": [
    "new_path = \"word2vec/w2v_2.npz\"\n",
    "\n",
    "e = np.load(new_path, allow_pickle=True)['wv'].item()"
   ]
  },
  {
   "cell_type": "code",
   "execution_count": 61,
   "metadata": {},
   "outputs": [],
   "source": [
    "for k in e.keys():\n",
    "    if k in embeddings.keys():\n",
    "        if np.any(e[k] != embeddings[k]):\n",
    "            print(k)"
   ]
  },
  {
   "cell_type": "code",
   "execution_count": null,
   "metadata": {},
   "outputs": [],
   "source": []
  }
 ],
 "metadata": {
  "kernelspec": {
   "display_name": "Python 3",
   "language": "python",
   "name": "python3"
  },
  "language_info": {
   "codemirror_mode": {
    "name": "ipython",
    "version": 3
   },
   "file_extension": ".py",
   "mimetype": "text/x-python",
   "name": "python",
   "nbconvert_exporter": "python",
   "pygments_lexer": "ipython3",
   "version": "3.8.16"
  },
  "orig_nbformat": 4
 },
 "nbformat": 4,
 "nbformat_minor": 2
}
