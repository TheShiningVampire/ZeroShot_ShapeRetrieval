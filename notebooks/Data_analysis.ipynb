{
 "cells": [
  {
   "cell_type": "code",
   "execution_count": 1,
   "metadata": {},
   "outputs": [],
   "source": [
    "# Deciding the seen and unseen classes\n",
    "import os"
   ]
  },
  {
   "cell_type": "code",
   "execution_count": 2,
   "metadata": {},
   "outputs": [],
   "source": [
    "data_path = \"/mnt/elk/data/valaybun/other_users/vinit/Data/ZERO_SHOT_DATASET_SHREC13\""
   ]
  },
  {
   "cell_type": "code",
   "execution_count": 3,
   "metadata": {},
   "outputs": [],
   "source": [
    "# Make a folder all_classes\n",
    "all_classes = os.path.join(data_path, \"all_classes\")\n",
    "# if not os.path.exists(all_classes):\n",
    "#     os.makedirs(all_classes)\n",
    "\n",
    "# Make img and model folder inside all_classes\n",
    "img_path = os.path.join(all_classes, \"img\")\n",
    "model_path = os.path.join(all_classes, \"model\")\n",
    "\n",
    "# if not os.path.exists(img_path):\n",
    "#     os.makedirs(img_path)\n",
    "\n",
    "# if not os.path.exists(model_path):\n",
    "#     os.makedirs(model_path)\n",
    "\n",
    "# Move all the classes from train and test folder to all_classes folder\n",
    "train_path = os.path.join(data_path, \"train\")\n",
    "test_path = os.path.join(data_path, \"test\")\n",
    "\n",
    "train_path_images = os.path.join(train_path, \"img\")\n",
    "test_path_images = os.path.join(test_path, \"img\")\n",
    "\n",
    "train_path_models = os.path.join(train_path, \"model\")\n",
    "test_path_models = os.path.join(test_path, \"model\")\n",
    "\n",
    "# for class_name in os.listdir(train_path_images):\n",
    "#     img_path = os.path.join(train_path_images, class_name)\n",
    "#     model_path = os.path.join(train_path_models, class_name)\n",
    "\n",
    "#     # Make a folder with class name in all_classes/img\n",
    "#     new_img_path = os.path.join(all_classes, \"img\", class_name)\n",
    "\n",
    "#     new_model_path = os.path.join(all_classes, \"model\", class_name)\n",
    "\n",
    "#     # Use cp -r to copy the folder\n",
    "#     os.system(\"cp -r {} {}\".format(img_path, new_img_path))\n",
    "#     os.system(\"cp -r {} {}\".format(model_path, new_model_path))\n",
    "\n",
    "# for class_name in os.listdir(test_path_images):\n",
    "#     img_path = os.path.join(test_path_images, class_name)\n",
    "#     model_path = os.path.join(test_path_models, class_name)\n",
    "\n",
    "#     # Make a folder with class name in all_classes/img\n",
    "#     new_img_path = os.path.join(all_classes, \"img\", class_name)\n",
    "\n",
    "#     new_model_path = os.path.join(all_classes, \"model\", class_name)\n",
    "\n",
    "#     # Use cp -r to copy the folder\n",
    "#     os.system(\"cp -r {} {}\".format(img_path, new_img_path))\n",
    "#     os.system(\"cp -r {} {}\".format(model_path, new_model_path))"
   ]
  },
  {
   "cell_type": "code",
   "execution_count": 4,
   "metadata": {},
   "outputs": [
    {
     "name": "stderr",
     "output_type": "stream",
     "text": [
      "/mnt/elk/data/valaybun/other_users/vinit/pytorch3d/lib/python3.8/site-packages/tqdm/auto.py:21: TqdmWarning: IProgress not found. Please update jupyter and ipywidgets. See https://ipywidgets.readthedocs.io/en/stable/user_install.html\n",
      "  from .autonotebook import tqdm as notebook_tqdm\n"
     ]
    }
   ],
   "source": [
    "from pytorch3d.structures import Meshes\n",
    "from pytorch3d.renderer.mesh import Textures"
   ]
  },
  {
   "cell_type": "code",
   "execution_count": 5,
   "metadata": {},
   "outputs": [],
   "source": [
    "# For all the classes in all_classes folder, plot one of the image and all the models in a grid\n",
    "import matplotlib.pyplot as plt\n",
    "import numpy as np\n",
    "import torch\n",
    "import torchvision\n",
    "from torchvision import transforms\n",
    "from torchvision.utils import make_grid\n",
    "import trimesh"
   ]
  },
  {
   "cell_type": "code",
   "execution_count": 6,
   "metadata": {},
   "outputs": [],
   "source": [
    "def _load_mesh_off(model_path):\n",
    "    from pytorch3d.io import IO \n",
    "\n",
    "    mesh = IO().load_mesh(model_path)\n",
    "    verts = mesh.verts_packed()\n",
    "    faces = mesh.faces_packed()\n",
    "\n",
    "    textures = verts.new_ones(\n",
    "        faces.shape[0],\n",
    "        4,\n",
    "        4,\n",
    "        3,\n",
    "    )\n",
    "\n",
    "    return verts, faces, textures\n",
    "\n",
    "def torch_center_and_normalize(points,p=\"inf\"):\n",
    "    \"\"\"\n",
    "    a helper pytorch function that normalize and center 3D points clouds \n",
    "    \"\"\"\n",
    "    N = points.shape[0]\n",
    "    center = points.mean(0)\n",
    "    if p != \"fro\" and p!= \"no\":\n",
    "        scale = torch.max(torch.norm(points - center, p=float(p),dim=1))\n",
    "    elif p==\"fro\" :\n",
    "        scale = torch.norm(points - center, p=p )\n",
    "    elif p==\"no\":\n",
    "        scale = 1.0\n",
    "    points = points - center.expand(N, 3)\n",
    "    points = points * (1.0 / float(scale))\n",
    "    return points"
   ]
  },
  {
   "cell_type": "code",
   "execution_count": 7,
   "metadata": {},
   "outputs": [],
   "source": [
    "from src.models.components.mvtn import MVTN\n",
    "from src.models.components.renderer import MVRenderer\n",
    "from src.utils.ops import regualarize_rendered_views"
   ]
  },
  {
   "cell_type": "code",
   "execution_count": 8,
   "metadata": {},
   "outputs": [],
   "source": [
    "mvtn = MVTN(8, views_config='circular',\n",
    "            canonical_elevation= 30.0, \n",
    "            canonical_distance= 2.2,\n",
    "            transform_distance=False, \n",
    "            input_view_noise=0.0, \n",
    "            shape_extractor='PointNet',\n",
    "            screatch_feature_extractor=True)\n",
    "\n",
    "\n",
    "mvrenderer = MVRenderer(nb_views=8, image_size=224,\n",
    "                        pc_rendering=False, \n",
    "                        object_color='blue', \n",
    "                        background_color='white',\n",
    "                        faces_per_pixel=2, points_radius=0.006,  points_per_pixel=1, \n",
    "                        light_direction=\"random\", \n",
    "                        cull_backfaces=False)"
   ]
  },
  {
   "cell_type": "code",
   "execution_count": 32,
   "metadata": {},
   "outputs": [],
   "source": [
    "# For class in all_classes/img\n",
    "i_path = os.path.join(all_classes, \"img\")\n",
    "m_path = os.path.join(all_classes, \"model\")\n",
    "\n",
    "classes = os.listdir(i_path)"
   ]
  },
  {
   "cell_type": "code",
   "execution_count": 36,
   "metadata": {},
   "outputs": [
    {
     "name": "stdout",
     "output_type": "stream",
     "text": [
      "0\n",
      "1\n",
      "2\n",
      "3\n",
      "4\n",
      "5\n"
     ]
    }
   ],
   "source": [
    "for i in range(0, len(classes)//15):\n",
    "    print(i)\n",
    "    ran = list(range(i*15, min((i+1)*15, len(classes))))\n",
    "\n",
    "\n",
    "    horizontal_concat = []\n",
    "\n",
    "    for class_num in ran:\n",
    "        class_name = classes[class_num]\n",
    "        # Get the image path\n",
    "        class_img_path = os.path.join(i_path, class_name)\n",
    "\n",
    "        # Get the model path\n",
    "        class_model_path = os.path.join(m_path, class_name)\n",
    "\n",
    "        # Get the image and model paths\n",
    "        img_paths = [os.path.join(class_img_path, img_name) for img_name in os.listdir(class_img_path)]\n",
    "        model_paths = [os.path.join(class_model_path, model_name) for model_name in os.listdir(class_model_path)]\n",
    "\n",
    "        row_images = []\n",
    "\n",
    "        # Load the image and model\n",
    "        img = torchvision.io.read_image(img_paths[0]).cuda()\n",
    "\n",
    "        img = img.expand(3, img.shape[1], img.shape[2])\n",
    "        row_images.append(img)\n",
    "        model_count = 0\n",
    "\n",
    "        for model_path in model_paths:\n",
    "            if model_count == 10:\n",
    "                break\n",
    "\n",
    "            model_count += 1\n",
    "\n",
    "            verts, faces, textures = _load_mesh_off(model_path)\n",
    "            verts = torch_center_and_normalize(\n",
    "                verts.to(torch.float), p=2)\n",
    "\n",
    "            verts_rgb = torch.ones_like(verts)[None]\n",
    "            textures = Textures(verts_rgb=verts_rgb)\n",
    "            meshes = Meshes(\n",
    "                verts=[verts],\n",
    "                faces=[faces],\n",
    "                textures=textures\n",
    "            )\n",
    "            points = trimesh.Trimesh(vertices=verts.numpy(\n",
    "            ), faces=faces.numpy()).sample(2048, False)\n",
    "            points = torch.from_numpy(points).to(torch.float)\n",
    "            points = torch_center_and_normalize(points, p=2)\n",
    "\n",
    "            c_batch_size = len(meshes)\n",
    "            azim, elev, dist = mvtn(points, c_batch_size=c_batch_size)\n",
    "            rendered_images, _ = mvrenderer(meshes, points, azim=azim, elev=elev, dist=dist)\n",
    "            rendered_images = regualarize_rendered_views(rendered_images, 0.0, False, 0.3)\n",
    "\n",
    "            row_images.append(rendered_images[0,3,:,:,:] * 255)\n",
    "\n",
    "        for _ in range(10 - model_count):\n",
    "            row_images.append(torch.ones_like(row_images[0]) * 255)\n",
    "\n",
    "        horizontal_concat.append(torch.cat(row_images, dim=2))\n",
    "\n",
    "    vertical_concat = torch.cat(horizontal_concat, dim=1)\n",
    "\n",
    "    grid = make_grid(vertical_concat, nrow=1, padding=2, normalize=True)\n",
    "    grid = grid.permute(1,2,0).detach().cpu().numpy()\n",
    "\n",
    "    plt.figure(figsize=(20,20))\n",
    "    plt.axis('off')\n",
    "    plt.imshow(grid)\n",
    "    plt.show()\n",
    "\n",
    "    # save figure\n",
    "    plt.savefig('all_classes' + str(i)+'.png', bbox_inches='tight', pad_inches=0) \n"
   ]
  },
  {
   "cell_type": "code",
   "execution_count": 76,
   "metadata": {},
   "outputs": [
    {
     "name": "stdout",
     "output_type": "stream",
     "text": [
      "0\n",
      "1\n",
      "2\n",
      "3\n",
      "4\n",
      "5\n",
      "6\n",
      "7\n",
      "8\n",
      "9\n",
      "10\n",
      "11\n",
      "12\n",
      "13\n",
      "14\n",
      "15\n",
      "16\n",
      "17\n",
      "18\n",
      "19\n",
      "20\n",
      "21\n",
      "22\n",
      "23\n",
      "24\n",
      "25\n",
      "26\n",
      "27\n",
      "28\n",
      "29\n",
      "30\n",
      "31\n",
      "32\n",
      "33\n",
      "34\n",
      "35\n",
      "36\n",
      "37\n",
      "38\n",
      "39\n",
      "40\n",
      "41\n",
      "42\n",
      "43\n",
      "44\n",
      "45\n",
      "46\n",
      "47\n",
      "48\n",
      "49\n",
      "50\n",
      "51\n",
      "52\n",
      "53\n",
      "54\n",
      "55\n",
      "56\n",
      "57\n",
      "58\n",
      "59\n",
      "60\n",
      "61\n",
      "62\n",
      "63\n",
      "64\n",
      "65\n",
      "66\n",
      "67\n",
      "68\n",
      "69\n",
      "70\n",
      "71\n",
      "72\n",
      "73\n",
      "74\n",
      "75\n",
      "76\n",
      "77\n",
      "78\n",
      "79\n",
      "80\n",
      "81\n",
      "82\n",
      "83\n",
      "84\n",
      "85\n",
      "86\n",
      "87\n",
      "88\n",
      "89\n"
     ]
    }
   ],
   "source": [
    "save_path = \"/mnt/elk/data/valaybun/other_users/vinit/Data/ZERO_SHOT_DATASET_SHREC13/all_classes/model_pkl\"\n",
    "\n",
    "i = 0\n",
    "for class_name in classes:\n",
    "    print(i)\n",
    "    i += 1\n",
    "    # Get the model path\n",
    "    class_model_path = os.path.join(m_path, class_name)\n",
    "\n",
    "    model_paths = [os.path.join(class_model_path, model_name) for model_name in os.listdir(class_model_path)]\n",
    "\n",
    "    save_path_class = os.path.join(save_path, class_name)\n",
    "    os.makedirs(save_path_class, exist_ok=True)\n",
    "\n",
    "    for model_path in model_paths:\n",
    "        verts, faces, textures = _load_mesh_off(model_path)\n",
    "        verts = torch_center_and_normalize(\n",
    "            verts.to(torch.float), p=2)\n",
    "\n",
    "        verts_rgb = torch.ones_like(verts)[None]\n",
    "        textures = Textures(verts_rgb=verts_rgb)\n",
    "        meshes = Meshes(\n",
    "            verts=[verts],\n",
    "            faces=[faces],\n",
    "            textures=textures\n",
    "        )\n",
    "        points = trimesh.Trimesh(vertices=verts.numpy(\n",
    "        ), faces=faces.numpy()).sample(2048, False)\n",
    "        points = torch.from_numpy(points).to(torch.float)\n",
    "        points = torch_center_and_normalize(points, p=2)\n",
    "\n",
    "        c_batch_size = len(meshes)\n",
    "        azim, elev, dist = mvtn(points, c_batch_size=c_batch_size)\n",
    "        rendered_images, _ = mvrenderer(meshes, points, azim=azim, elev=elev, dist=dist)\n",
    "        rendered_images = regualarize_rendered_views(rendered_images, 0.0, False, 0.3)\n",
    "\n",
    "        # Remove the batch dimension\n",
    "        rendered_images = rendered_images.squeeze(0)\n",
    "\n",
    "        save_path_model = os.path.join(save_path_class, model_path.split(\"/\")[-1].split(\".\")[0] + \".pkl\")\n",
    "        torch.save(rendered_images, os.path.join(save_path, save_path_model))\n"
   ]
  },
  {
   "cell_type": "code",
   "execution_count": 77,
   "metadata": {},
   "outputs": [
    {
     "name": "stdout",
     "output_type": "stream",
     "text": [
      "All the models are saved with the same name in both the folders except the extension\n"
     ]
    }
   ],
   "source": [
    "path_1 = \"/mnt/elk/data/valaybun/other_users/vinit/Data/ZERO_SHOT_DATASET_SHREC13/all_classes/model/\"\n",
    "path_2 = \"/mnt/elk/data/valaybun/other_users/vinit/Data/ZERO_SHOT_DATASET_SHREC13/all_classes/model_pkl/\"\n",
    "\n",
    "# Check if all the models are saved with the same name in both the folders except the extension\n",
    "for class_name in classes:  \n",
    "    class_path_1 = os.path.join(path_1, class_name)\n",
    "    class_path_2 = os.path.join(path_2, class_name)\n",
    "\n",
    "    models_1 = os.listdir(class_path_1)\n",
    "    models_2 = os.listdir(class_path_2)\n",
    "\n",
    "    models_1 = sorted(models_1)\n",
    "    models_2 = sorted(models_2)\n",
    "    \n",
    "    for model_1 in models_1:\n",
    "        model_1_name = model_1.split(\".\")[0]\n",
    "        model_2_name = model_1_name + \".pkl\"\n",
    "\n",
    "        assert model_2_name in models_2\n",
    "\n",
    "# Check if the number of models in both the folders are same\n",
    "for class_name in classes:\n",
    "    class_path_1 = os.path.join(path_1, class_name)\n",
    "    class_path_2 = os.path.join(path_2, class_name)\n",
    "\n",
    "    models_1 = os.listdir(class_path_1)\n",
    "    models_2 = os.listdir(class_path_2)\n",
    "\n",
    "    assert len(models_1) == len(models_2)\n",
    "\n",
    "print(\"All the models are saved with the same name in both the folders except the extension\")"
   ]
  },
  {
   "cell_type": "code",
   "execution_count": 78,
   "metadata": {},
   "outputs": [
    {
     "data": {
      "text/plain": [
       "'/mnt/elk/data/valaybun/other_users/vinit/Data/ZERO_SHOT_DATASET_SHREC13/all_classes/model/bridge/m1779.off'"
      ]
     },
     "execution_count": 78,
     "metadata": {},
     "output_type": "execute_result"
    }
   ],
   "source": [
    "model_1_path = os.path.join(path_1, classes[0])\n",
    "model_1_path = os.path.join(model_1_path, sorted(os.listdir(model_1_path))[0])\n",
    "model_1_path"
   ]
  },
  {
   "cell_type": "code",
   "execution_count": 80,
   "metadata": {},
   "outputs": [
    {
     "data": {
      "text/plain": [
       "'/mnt/elk/data/valaybun/other_users/vinit/Data/ZERO_SHOT_DATASET_SHREC13/all_classes/model_pkl/bridge/m1779.pkl'"
      ]
     },
     "execution_count": 80,
     "metadata": {},
     "output_type": "execute_result"
    }
   ],
   "source": [
    "model_2_path = os.path.join(path_2, classes[0])\n",
    "model_2_path = os.path.join(model_2_path, sorted(os.listdir(model_2_path))[0])\n",
    "model_2_path"
   ]
  },
  {
   "cell_type": "code",
   "execution_count": 81,
   "metadata": {},
   "outputs": [
    {
     "data": {
      "text/plain": [
       "True"
      ]
     },
     "execution_count": 81,
     "metadata": {},
     "output_type": "execute_result"
    }
   ],
   "source": [
    "os.path.exists(model_1_path)"
   ]
  },
  {
   "cell_type": "code",
   "execution_count": 82,
   "metadata": {},
   "outputs": [],
   "source": [
    "# Load pickle file from model_2_path\n",
    "\n",
    "rendered_images = torch.load(model_2_path)"
   ]
  },
  {
   "cell_type": "code",
   "execution_count": 83,
   "metadata": {},
   "outputs": [
    {
     "data": {
      "text/plain": [
       "torch.Size([8, 3, 224, 224])"
      ]
     },
     "execution_count": 83,
     "metadata": {},
     "output_type": "execute_result"
    }
   ],
   "source": [
    "rendered_images.shape"
   ]
  },
  {
   "cell_type": "code",
   "execution_count": null,
   "metadata": {},
   "outputs": [],
   "source": []
  }
 ],
 "metadata": {
  "kernelspec": {
   "display_name": "Python 3",
   "language": "python",
   "name": "python3"
  },
  "language_info": {
   "codemirror_mode": {
    "name": "ipython",
    "version": 3
   },
   "file_extension": ".py",
   "mimetype": "text/x-python",
   "name": "python",
   "nbconvert_exporter": "python",
   "pygments_lexer": "ipython3",
   "version": "3.8.16"
  },
  "orig_nbformat": 4
 },
 "nbformat": 4,
 "nbformat_minor": 2
}
